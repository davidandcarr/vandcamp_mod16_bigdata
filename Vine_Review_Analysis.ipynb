{
  "nbformat": 4,
  "nbformat_minor": 0,
  "metadata": {
    "colab": {
      "name": "Vine_Review_Analysis.ipynb",
      "provenance": []
    },
    "kernelspec": {
      "name": "python3",
      "display_name": "Python 3"
    },
    "language_info": {
      "name": "python"
    }
  },
  "cells": [
    {
      "cell_type": "code",
      "metadata": {
        "colab": {
          "base_uri": "https://localhost:8080/"
        },
        "id": "Kc5GmToM80hx",
        "outputId": "c8ecb36b-ba7a-4ccd-85e4-31e1087c4f07"
      },
      "source": [
        "import os\n",
        "# Find the latest version of spark 2.0  from http://www-us.apache.org/dist/spark/ and enter as the spark version\n",
        "# For example:\n",
        "# spark_version = 'spark-3.0.0'\n",
        "spark_version = 'spark-3.0.2'\n",
        "os.environ['SPARK_VERSION']=spark_version\n",
        "\n",
        "# Install Spark and Java\n",
        "!apt-get update\n",
        "!apt-get install openjdk-11-jdk-headless -qq > /dev/null\n",
        "!wget -q http://www-us.apache.org/dist/spark/$SPARK_VERSION/$SPARK_VERSION-bin-hadoop2.7.tgz\n",
        "!tar xf $SPARK_VERSION-bin-hadoop2.7.tgz\n",
        "!pip install -q findspark\n",
        "\n",
        "# Set Environment Variables\n",
        "import os\n",
        "os.environ[\"JAVA_HOME\"] = \"/usr/lib/jvm/java-11-openjdk-amd64\"\n",
        "os.environ[\"SPARK_HOME\"] = f\"/content/{spark_version}-bin-hadoop2.7\"\n",
        "\n",
        "# Start a SparkSession\n",
        "import findspark\n",
        "findspark.init()"
      ],
      "execution_count": 1,
      "outputs": [
        {
          "output_type": "stream",
          "text": [
            "\r0% [Working]\r            \rHit:1 http://security.ubuntu.com/ubuntu bionic-security InRelease\n",
            "\r0% [Connecting to archive.ubuntu.com] [Connected to cloud.r-project.org (13.225\r0% [1 InRelease gpgv 88.7 kB] [Connecting to archive.ubuntu.com] [Connected to \r                                                                               \rHit:2 https://cloud.r-project.org/bin/linux/ubuntu bionic-cran40/ InRelease\n",
            "\r0% [1 InRelease gpgv 88.7 kB] [Connecting to archive.ubuntu.com] [Connecting to\r                                                                               \rIgn:3 https://developer.download.nvidia.com/compute/cuda/repos/ubuntu1804/x86_64  InRelease\n",
            "\r0% [1 InRelease gpgv 88.7 kB] [Connecting to archive.ubuntu.com (91.189.88.142)\r                                                                               \rHit:4 http://ppa.launchpad.net/c2d4u.team/c2d4u4.0+/ubuntu bionic InRelease\n",
            "\r0% [1 InRelease gpgv 88.7 kB] [Waiting for headers] [Connecting to ppa.launchpa\r                                                                               \rIgn:5 https://developer.download.nvidia.com/compute/machine-learning/repos/ubuntu1804/x86_64  InRelease\n",
            "\r0% [1 InRelease gpgv 88.7 kB] [Waiting for headers] [Connecting to ppa.launchpa\r                                                                               \rHit:6 https://developer.download.nvidia.com/compute/cuda/repos/ubuntu1804/x86_64  Release\n",
            "\r0% [1 InRelease gpgv 88.7 kB] [Waiting for headers] [Connecting to ppa.launchpa\r                                                                               \rHit:7 https://developer.download.nvidia.com/compute/machine-learning/repos/ubuntu1804/x86_64  Release\n",
            "Hit:8 http://archive.ubuntu.com/ubuntu bionic InRelease\n",
            "Hit:9 http://archive.ubuntu.com/ubuntu bionic-updates InRelease\n",
            "Hit:10 http://ppa.launchpad.net/cran/libgit2/ubuntu bionic InRelease\n",
            "Hit:11 http://archive.ubuntu.com/ubuntu bionic-backports InRelease\n",
            "Hit:12 http://ppa.launchpad.net/deadsnakes/ppa/ubuntu bionic InRelease\n",
            "Hit:13 http://ppa.launchpad.net/graphics-drivers/ppa/ubuntu bionic InRelease\n",
            "Reading package lists... Done\n"
          ],
          "name": "stdout"
        }
      ]
    },
    {
      "cell_type": "code",
      "metadata": {
        "id": "25w-EdZ788D0"
      },
      "source": [
        "# Start Spark session\n",
        "from pyspark.sql import SparkSession\n",
        "spark = SparkSession.builder.appName(\"del2-vine\").getOrCreate()"
      ],
      "execution_count": 2,
      "outputs": []
    },
    {
      "cell_type": "code",
      "metadata": {
        "id": "QhqHq2IpBuQP"
      },
      "source": [
        "#tools for later\n",
        "from pyspark.sql.types import StructField, StringType, IntegerType, StructType\n",
        "import pyspark.sql.functions as func"
      ],
      "execution_count": 91,
      "outputs": []
    },
    {
      "cell_type": "code",
      "metadata": {
        "colab": {
          "base_uri": "https://localhost:8080/"
        },
        "id": "NAX7oAGt9NTo",
        "outputId": "b24d3caf-0539-488c-f28a-04a2c4e06d24"
      },
      "source": [
        "# Read in data from S3 Buckets\n",
        "from pyspark import SparkFiles\n",
        "url =\"https://mod16-bkt.s3.us-east-2.amazonaws.com/data_tables/vine_table.csv\"\n",
        "spark.sparkContext.addFile(url)\n",
        "df = spark.read.csv(SparkFiles.get(\"vine_table.csv\"), header=False, inferSchema=True)\n",
        "\n",
        "# Show DataFrame\n",
        "df.show()"
      ],
      "execution_count": 5,
      "outputs": [
        {
          "output_type": "stream",
          "text": [
            "+--------------+---+---+---+---+---+\n",
            "|           _c0|_c1|_c2|_c3|_c4|_c5|\n",
            "+--------------+---+---+---+---+---+\n",
            "| RMDCHWD0Y5OZ9|  3|  0|  1|  N|  N|\n",
            "| RZSL0BALIYUNU|  5|  0|  0|  N|  Y|\n",
            "| RIZR67JKUDBI0|  3|  0|  1|  N|  Y|\n",
            "|R27HL570VNL85F|  5|  0|  0|  N|  Y|\n",
            "|R34EBU9QDWJ1GD|  5|  0|  0|  N|  Y|\n",
            "|R1WCUI4Z1SIQEO|  5|  0|  0|  N|  N|\n",
            "| RL5LNO26GAVJ1|  2|  3|  4|  N|  Y|\n",
            "|R3GYQ5W8JHP8SB|  5|  0|  0|  N|  Y|\n",
            "|R30SHYQXGG5EYC|  5|  0|  0|  N|  Y|\n",
            "|R14YLXA56NP51I|  5|  1|  1|  N|  N|\n",
            "|R1ZH0HSH38IOTZ|  5|  0|  0|  N|  Y|\n",
            "|R3H53KLLC210XI|  4|  0|  0|  N|  Y|\n",
            "|R3OOR877NGA8JK|  3|  0|  0|  N|  Y|\n",
            "|R1BY7WKOZ3KMH0|  2|  0|  0|  N|  Y|\n",
            "| RXP1TFSWE8EG9|  5|  0|  0|  N|  Y|\n",
            "|R3J44DPP12OTLJ|  5|  0|  0|  N|  Y|\n",
            "| RFOV69SK0T676|  5|  0|  0|  N|  Y|\n",
            "|R2HUWDNW62FOL3|  1|  0|  0|  N|  Y|\n",
            "|R1KSU30XZGR452|  5|  0|  0|  N|  Y|\n",
            "|R2TZVLLTSHA07N|  5|  1|  1|  N|  Y|\n",
            "+--------------+---+---+---+---+---+\n",
            "only showing top 20 rows\n",
            "\n"
          ],
          "name": "stdout"
        }
      ]
    },
    {
      "cell_type": "code",
      "metadata": {
        "colab": {
          "base_uri": "https://localhost:8080/"
        },
        "id": "1k0sKyo39qcD",
        "outputId": "241d2795-445e-4b60-bbc6-8c938708691e"
      },
      "source": [
        "#well i f#$%ed up the export while trying to save my work. so let's clean up that header\n",
        "vine_df = df.withColumnRenamed('_c0','review_id').withColumnRenamed('_c1','star_rating').withColumnRenamed('_c2','helpful_votes').withColumnRenamed('_c3','total_votes').withColumnRenamed('_c4','vine').withColumnRenamed('_c5','verified_purchase')\n",
        "\n",
        "vine_df.show(3)\n"
      ],
      "execution_count": 8,
      "outputs": [
        {
          "output_type": "stream",
          "text": [
            "+-------------+-----------+-------------+-----------+----+-----------------+\n",
            "|    review_id|star_rating|helpful_votes|total_votes|vine|verified_purchase|\n",
            "+-------------+-----------+-------------+-----------+----+-----------------+\n",
            "|RMDCHWD0Y5OZ9|          3|            0|          1|   N|                N|\n",
            "|RZSL0BALIYUNU|          5|            0|          0|   N|                Y|\n",
            "|RIZR67JKUDBI0|          3|            0|          1|   N|                Y|\n",
            "+-------------+-----------+-------------+-----------+----+-----------------+\n",
            "only showing top 3 rows\n",
            "\n"
          ],
          "name": "stdout"
        }
      ]
    },
    {
      "cell_type": "code",
      "metadata": {
        "colab": {
          "base_uri": "https://localhost:8080/"
        },
        "id": "UNxbXPRlxr6L",
        "outputId": "abeea17e-31a8-4ec0-efbf-81a490889fdc"
      },
      "source": [
        "vine_filt_df = vine_df.filter(vine_df.total_votes >= 20)\n",
        "vine_filt_df.show(3)"
      ],
      "execution_count": 9,
      "outputs": [
        {
          "output_type": "stream",
          "text": [
            "+--------------+-----------+-------------+-----------+----+-----------------+\n",
            "|     review_id|star_rating|helpful_votes|total_votes|vine|verified_purchase|\n",
            "+--------------+-----------+-------------+-----------+----+-----------------+\n",
            "|R2243Y3OD8U6KQ|          5|           47|         61|   N|                N|\n",
            "|R2TGT0CDTCAAHW|          5|           21|         23|   N|                Y|\n",
            "| RX4D22YSXEF4P|          1|           37|         38|   N|                Y|\n",
            "+--------------+-----------+-------------+-----------+----+-----------------+\n",
            "only showing top 3 rows\n",
            "\n"
          ],
          "name": "stdout"
        }
      ]
    },
    {
      "cell_type": "code",
      "metadata": {
        "colab": {
          "base_uri": "https://localhost:8080/"
        },
        "id": "A5WXm7o12Rde",
        "outputId": "3a2b5add-0ed4-4365-fc47-c841cbc0b9ea"
      },
      "source": [
        "vine_calc = vine_filt_df.withColumn('vine_calc', (vine_filt_df.helpful_votes / vine_filt_df.total_votes) > 0.5)\n",
        "vine_calc.show(3)\n",
        "vine_calc.count()\n"
      ],
      "execution_count": 23,
      "outputs": [
        {
          "output_type": "stream",
          "text": [
            "+--------------+-----------+-------------+-----------+----+-----------------+---------+\n",
            "|     review_id|star_rating|helpful_votes|total_votes|vine|verified_purchase|vine_calc|\n",
            "+--------------+-----------+-------------+-----------+----+-----------------+---------+\n",
            "|R2243Y3OD8U6KQ|          5|           47|         61|   N|                N|     true|\n",
            "|R2TGT0CDTCAAHW|          5|           21|         23|   N|                Y|     true|\n",
            "| RX4D22YSXEF4P|          1|           37|         38|   N|                Y|     true|\n",
            "+--------------+-----------+-------------+-----------+----+-----------------+---------+\n",
            "only showing top 3 rows\n",
            "\n"
          ],
          "name": "stdout"
        },
        {
          "output_type": "execute_result",
          "data": {
            "text/plain": [
              "16520"
            ]
          },
          "metadata": {
            "tags": []
          },
          "execution_count": 23
        }
      ]
    },
    {
      "cell_type": "code",
      "metadata": {
        "colab": {
          "base_uri": "https://localhost:8080/"
        },
        "id": "YthFh9Eg5BHB",
        "outputId": "22f98af9-2f59-45fd-ab0b-592574d1a60b"
      },
      "source": [
        "helping_vines = vine_calc.filter(vine_calc.vine_calc == 'true')\n",
        "helping_vines.show(3)\n",
        "helping_vines.count()"
      ],
      "execution_count": 24,
      "outputs": [
        {
          "output_type": "stream",
          "text": [
            "+--------------+-----------+-------------+-----------+----+-----------------+---------+\n",
            "|     review_id|star_rating|helpful_votes|total_votes|vine|verified_purchase|vine_calc|\n",
            "+--------------+-----------+-------------+-----------+----+-----------------+---------+\n",
            "|R2243Y3OD8U6KQ|          5|           47|         61|   N|                N|     true|\n",
            "|R2TGT0CDTCAAHW|          5|           21|         23|   N|                Y|     true|\n",
            "| RX4D22YSXEF4P|          1|           37|         38|   N|                Y|     true|\n",
            "+--------------+-----------+-------------+-----------+----+-----------------+---------+\n",
            "only showing top 3 rows\n",
            "\n"
          ],
          "name": "stdout"
        },
        {
          "output_type": "execute_result",
          "data": {
            "text/plain": [
              "14496"
            ]
          },
          "metadata": {
            "tags": []
          },
          "execution_count": 24
        }
      ]
    },
    {
      "cell_type": "code",
      "metadata": {
        "colab": {
          "base_uri": "https://localhost:8080/"
        },
        "id": "5V0yszaf5JDa",
        "outputId": "9b625518-31ed-4fd3-9986-ac8d132a0d1f"
      },
      "source": [
        "#filter for paid\n",
        "yesvine_df = helping_vines.filter(helping_vines.vine == 'Y')\n",
        "yesvine_df.show(3)\n",
        "yesvine_df.count()"
      ],
      "execution_count": 25,
      "outputs": [
        {
          "output_type": "stream",
          "text": [
            "+--------------+-----------+-------------+-----------+----+-----------------+---------+\n",
            "|     review_id|star_rating|helpful_votes|total_votes|vine|verified_purchase|vine_calc|\n",
            "+--------------+-----------+-------------+-----------+----+-----------------+---------+\n",
            "|R1R9RU7JW0MFR2|          4|           20|         23|   Y|                N|     true|\n",
            "|R19EFYNN3W8Q07|          5|           26|         32|   Y|                N|     true|\n",
            "|R34DJ1R8AEU0SG|          5|           29|         35|   Y|                N|     true|\n",
            "+--------------+-----------+-------------+-----------+----+-----------------+---------+\n",
            "only showing top 3 rows\n",
            "\n"
          ],
          "name": "stdout"
        },
        {
          "output_type": "execute_result",
          "data": {
            "text/plain": [
              "60"
            ]
          },
          "metadata": {
            "tags": []
          },
          "execution_count": 25
        }
      ]
    },
    {
      "cell_type": "code",
      "metadata": {
        "colab": {
          "base_uri": "https://localhost:8080/"
        },
        "id": "AZYILmtz5V32",
        "outputId": "52831860-ba0a-4bad-a187-3cd966f4e50a"
      },
      "source": [
        "#filter for unpaid\n",
        "novine_df = helping_vines.filter(helping_vines.vine == 'N')\n",
        "novine_df.show(3)\n",
        "novine_df.count()"
      ],
      "execution_count": 26,
      "outputs": [
        {
          "output_type": "stream",
          "text": [
            "+--------------+-----------+-------------+-----------+----+-----------------+---------+\n",
            "|     review_id|star_rating|helpful_votes|total_votes|vine|verified_purchase|vine_calc|\n",
            "+--------------+-----------+-------------+-----------+----+-----------------+---------+\n",
            "|R2243Y3OD8U6KQ|          5|           47|         61|   N|                N|     true|\n",
            "|R2TGT0CDTCAAHW|          5|           21|         23|   N|                Y|     true|\n",
            "| RX4D22YSXEF4P|          1|           37|         38|   N|                Y|     true|\n",
            "+--------------+-----------+-------------+-----------+----+-----------------+---------+\n",
            "only showing top 3 rows\n",
            "\n"
          ],
          "name": "stdout"
        },
        {
          "output_type": "execute_result",
          "data": {
            "text/plain": [
              "14436"
            ]
          },
          "metadata": {
            "tags": []
          },
          "execution_count": 26
        }
      ]
    },
    {
      "cell_type": "code",
      "metadata": {
        "id": "9JPHX1t7AXvU"
      },
      "source": [
        "yvine_data1 = [(yesvine_df.count(), yesvine_df.filter(yesvine_df.star_rating == '5').count())]\n",
        "yvine_schema = [StructField('yvine_count', IntegerType(), True), StructField('yvine_fivestars', IntegerType(), True)]\n",
        "#yvine_schema = ['review_count','5star_reviews']\n",
        "yvine_struct = StructType(fields=yvine_schema)"
      ],
      "execution_count": 54,
      "outputs": []
    },
    {
      "cell_type": "code",
      "metadata": {
        "colab": {
          "base_uri": "https://localhost:8080/"
        },
        "id": "AKEKhdQ454Gi",
        "outputId": "d678cc95-1141-4f0a-f93d-15a116dfb0dc"
      },
      "source": [
        "yvine_summ = spark.createDataFrame(yvine_data1, schema=yvine_struct, )\n",
        "yvine_summ.show()\n",
        "yvine_summ.dtypes"
      ],
      "execution_count": 55,
      "outputs": [
        {
          "output_type": "stream",
          "text": [
            "+-----------+---------------+\n",
            "|yvine_count|yvine_fivestars|\n",
            "+-----------+---------------+\n",
            "|         60|             34|\n",
            "+-----------+---------------+\n",
            "\n"
          ],
          "name": "stdout"
        },
        {
          "output_type": "execute_result",
          "data": {
            "text/plain": [
              "[('yvine_count', 'int'), ('yvine_fivestars', 'int')]"
            ]
          },
          "metadata": {
            "tags": []
          },
          "execution_count": 55
        }
      ]
    },
    {
      "cell_type": "code",
      "metadata": {
        "colab": {
          "base_uri": "https://localhost:8080/"
        },
        "id": "6SjpZBRmDtCm",
        "outputId": "d83a576e-20bf-4815-d77b-7dfc62f0d4b5"
      },
      "source": [
        "yvine_pct = yvine_summ.withColumn('5star_pct', ((yvine_summ.yvine_fivestars / yvine_summ.yvine_count)*100))\n",
        "yvine_pct.show()\n",
        "yvine_pct.dtypes"
      ],
      "execution_count": 59,
      "outputs": [
        {
          "output_type": "stream",
          "text": [
            "+-----------+---------------+------------------+\n",
            "|yvine_count|yvine_fivestars|         5star_pct|\n",
            "+-----------+---------------+------------------+\n",
            "|         60|             34|56.666666666666664|\n",
            "+-----------+---------------+------------------+\n",
            "\n"
          ],
          "name": "stdout"
        },
        {
          "output_type": "execute_result",
          "data": {
            "text/plain": [
              "[('yvine_count', 'int'), ('yvine_fivestars', 'int'), ('5star_pct', 'double')]"
            ]
          },
          "metadata": {
            "tags": []
          },
          "execution_count": 59
        }
      ]
    },
    {
      "cell_type": "code",
      "metadata": {
        "colab": {
          "base_uri": "https://localhost:8080/"
        },
        "id": "Q1nOU2K0J3yC",
        "outputId": "e0d1b910-ab1b-4f67-ff6d-dc700b02f1cf"
      },
      "source": [
        "#after all that work I'm going to have to merge it all. I didn't understand the question. So let's make the novine_summ and just call that in the next cell\n",
        "novine_data1 = [(novine_df.count(), novine_df.filter(novine_df.star_rating == '5').count())]\n",
        "novine_schema = [StructField('novine_count', IntegerType(), True), StructField('novine_fivestars', IntegerType(), True)]\n",
        "#yvine_schema = ['review_count','5star_reviews']\n",
        "novine_struct = StructType(fields=novine_schema)\n",
        "\n",
        "novine_summ = spark.createDataFrame(novine_data1, schema=novine_struct, )\n",
        "novine_summ.show()\n",
        "novine_summ.dtypes\n"
      ],
      "execution_count": 77,
      "outputs": [
        {
          "output_type": "stream",
          "text": [
            "+------------+----------------+\n",
            "|novine_count|novine_fivestars|\n",
            "+------------+----------------+\n",
            "|       14436|            8208|\n",
            "+------------+----------------+\n",
            "\n"
          ],
          "name": "stdout"
        },
        {
          "output_type": "execute_result",
          "data": {
            "text/plain": [
              "[('novine_count', 'int'), ('novine_fivestars', 'int')]"
            ]
          },
          "metadata": {
            "tags": []
          },
          "execution_count": 77
        }
      ]
    },
    {
      "cell_type": "code",
      "metadata": {
        "id": "AJbXsbBr54V6"
      },
      "source": [
        "tot_summ = [(helping_vines.count(), helping_vines.filter(helping_vines.star_rating == 5).count(),\n",
        "             yesvine_df.count(),yesvine_df.filter(yesvine_df.star_rating == '5').count(), \n",
        "             (yesvine_df.filter(yesvine_df.star_rating == '5').count() / helping_vines.count())*100,\n",
        "             novine_df.count(), novine_df.filter(novine_df.star_rating == '5').count(),\n",
        "            (novine_df.filter(novine_df.star_rating == '5').count() / helping_vines.count())*100)]\n",
        "tot_schema = [StructField('review_count', IntegerType(), True), StructField('fivestars', IntegerType(), True), StructField('vine_revs', IntegerType(), True), StructField('vine_fives', IntegerType(), True), StructField('vfive_pct', StringType(), True), StructField('novine_revs', IntegerType(), True), StructField('novine_fives', IntegerType(), True), StructField('novfive_pct', StringType(), True)]\n",
        "tot_struct = StructType(fields=tot_schema)"
      ],
      "execution_count": 94,
      "outputs": []
    },
    {
      "cell_type": "code",
      "metadata": {
        "colab": {
          "base_uri": "https://localhost:8080/"
        },
        "id": "PlFeP5iMGLh6",
        "outputId": "a1f73439-5675-4897-d517-d25642cf8c24"
      },
      "source": [
        "summ_df = spark.createDataFrame(tot_summ, schema=tot_struct)\n",
        "summ_df.show()"
      ],
      "execution_count": 95,
      "outputs": [
        {
          "output_type": "stream",
          "text": [
            "+------------+---------+---------+----------+------------------+-----------+------------+------------------+\n",
            "|review_count|fivestars|vine_revs|vine_fives|         vfive_pct|novine_revs|novine_fives|       novfive_pct|\n",
            "+------------+---------+---------+----------+------------------+-----------+------------+------------------+\n",
            "|       14496|     8242|       60|        34|0.2345474613686534|      14436|        8208|56.622516556291394|\n",
            "+------------+---------+---------+----------+------------------+-----------+------------+------------------+\n",
            "\n"
          ],
          "name": "stdout"
        }
      ]
    }
  ]
}